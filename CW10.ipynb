{
 "cells": [
  {
   "cell_type": "markdown",
   "metadata": {},
   "source": []
  },
  {
   "cell_type": "code",
   "execution_count": 159,
   "metadata": {},
   "outputs": [],
   "source": [
    "import Pkg; Pkg.add(\"HiGHS\")\n",
    "import Pkg; Pkg.add(\"DataFrames\")\n",
    "import Pkg; Pkg.add(\"CSV\")\n",
    "using JuMP\n",
    "using HiGHS\n",
    "using DataFrames\n",
    "using CSV\n"
   ]
  },
  {
   "cell_type": "markdown",
   "metadata": {},
   "source": [
    "Plants and markets"
   ]
  },
  {
   "cell_type": "code",
   "execution_count": 160,
   "metadata": {},
   "outputs": [
    {
     "data": {
      "text/plain": [
       "3-element Vector{String}:\n",
       " \"dubai\"\n",
       " \"abudhabi\"\n",
       " \"sharjah\""
      ]
     },
     "metadata": {},
     "output_type": "display_data"
    }
   ],
   "source": [
    "P_g=[\"umm_al_nar\", \"ruwais\", \"taweelah\", \"dub_shar\"] #gas stations\n",
    "P_s=[\"shams\", \"al_dafra\"]  # solar stations\n",
    "P_h = [\"hatta\"] #hydro station\n",
    "P_n = [\"barakah\"] #nuclear station\n",
    "\n",
    "P=[\"umm_al_nar\", \"ruwais\", \"taweelah\", \"dub_shar\", \"shams\", \"al_dafra\", \"hatta\", \"barakah\"] \n",
    "\n",
    "M=[\"dubai\", \"abudhabi\", \"sharjah\"] # markets for products"
   ]
  },
  {
   "cell_type": "code",
   "execution_count": 161,
   "metadata": {},
   "outputs": [
    {
     "data": {
      "text/plain": [
       "8760-element Vector{Int64}:\n",
       "    1\n",
       "    2\n",
       "    3\n",
       "    4\n",
       "    5\n",
       "    6\n",
       "    7\n",
       "    8\n",
       "    9\n",
       "   10\n",
       "    ⋮\n",
       " 8752\n",
       " 8753\n",
       " 8754\n",
       " 8755\n",
       " 8756\n",
       " 8757\n",
       " 8758\n",
       " 8759\n",
       " 8760"
      ]
     },
     "metadata": {},
     "output_type": "display_data"
    }
   ],
   "source": [
    "demand = DataFrame(CSV.File(\"/Users/pranavmadhusudhana/Documents/Visual Studio 2022/PSP/demand_uae5.csv\"))\n",
    "desalination_demand = DataFrame(CSV.File(\"/Users/pranavmadhusudhana/Documents/Visual Studio 2022/PSP/desalination_demand_uae5.csv\"))\n",
    "new_desalination_demand = DataFrame(CSV.File(\"/Users/pranavmadhusudhana/Documents/Visual Studio 2022/PSP/new_desalination_demand.csv\"))\n",
    "generators = DataFrame(CSV.File(\"/Users/pranavmadhusudhana/Documents/Visual Studio 2022/PSP/Generators_data.csv\"))\n",
    "new_generators = DataFrame(CSV.File(\"/Users/pranavmadhusudhana/Documents/Visual Studio 2022/PSP/new_Generators_data.csv\"))\n",
    "branches = DataFrame(CSV.File(\"/Users/pranavmadhusudhana/Documents/Visual Studio 2022/PSP/branch.csv\"))\n",
    "nodes = DataFrame(CSV.File(\"/Users/pranavmadhusudhana/Documents/Visual Studio 2022/PSP/Nodes.csv\"))\n",
    "solar = DataFrame(CSV.File(\"/Users/pranavmadhusudhana/Documents/Visual Studio 2022/PSP/solar.csv\"))\n",
    "L = branches.id\n",
    "G = generators.Name[1:(size(generators,1))]  # note we truncate hydro and solar for now\n",
    "gen_node = generators.Node\n",
    "H = demand.Hour[1:8760] #the hours that we are working with"
   ]
  },
  {
   "cell_type": "code",
   "execution_count": 162,
   "metadata": {},
   "outputs": [
    {
     "ename": "UndefVarError",
     "evalue": "UndefVarError: `dubai_demand` not defined",
     "output_type": "error",
     "traceback": [
      "UndefVarError: `dubai_demand` not defined\n",
      "\n",
      "Stacktrace:\n",
      " [1] top-level scope\n",
      "   @ ~/Documents/Visual Studio 2022/PSP/CW9.ipynb:1"
     ]
    }
   ],
   "source": [
    "markets = DataFrame(\n",
    "    market=M,  \n",
    "    demand=[dubai_demand, Abu_dhabi_demand, sharjah_demand]\n",
    ")"
   ]
  },
  {
   "cell_type": "markdown",
   "metadata": {},
   "source": [
    "plants_g = DataFrame(plant=P_g, capacity=[350,650,100,300], cap_exg = [100,100,100,100], crf = [1,1,1,1], fix_oc = [100,120,100,100], var_oc = [100,120,100,100], fc = [1,1,1,1])\n",
    "plants_s = DataFrame(plant=P_s, capacity=[100,200],  cap_exg = [100,100], crf = [1,1], fix_oc = [100,100], var_oc = [100,120,100,100], fc = [1,1] )\n",
    "plants_h = DataFrame(plant=P_h, capacity=[350], cap_exg = [100], crf = [1], fix_oc = [100], var_oc = [100,120,100,100], fc = [1])\n",
    "plants_n = DataFrame(plant=P_n, capacity=[1000], cap_exg = [100], crf = [1], fix_oc = [200], var_oc = [100,120,100,100], fc = [1])\n",
    "new_plants_s = DataFrame(plant=P_s, capacity=[100,200],  cap_exg = [100,100], crf = [1,1], fix_oc = [100,100], var_oc = [100,120,100,100], fc = [1,1] )\n",
    "new_plants_g = DataFrame(plant=P_g, capacity=[350,650,100,300], cap_exg = [100,100,100,100], crf = [1,1,1,1], fix_oc = [100,120,100,100], var_oc = [100,120,100,100], fc = [1,1,1,1])\n",
    "\n",
    "plants = DataFrame(plant=P, capacity=[350,650,100,300, 100,200, 350, 1000], cap_exg = [100,100,100,100, 100,100, 100, 100], crf = [1,1,1,1, 1,1,1,1], fix_oc = [100,120,100,100, 100,100, 100, 200], var_oc = [100,120,100,100, 100,120, 100,100], fc = [1,1,1,1,1,1,1,1])\n",
    "\n",
    "plants_g = DataFrame(plant=P_g, capacity=[350,650,100,300], cap_exg = [100,100,100,100], crf = [1,1,1,1], fix_oc = [100,120,100,100], var_oc = [100,120,100,100], fc = [1,1,1,1])\n",
    "plants_s = DataFrame(plant=P_s, capacity=[100,200],  cap_exg = [100,100], crf = [1,1], fix_oc = [100,100], var_oc = [100,120], fc = [1,1] )\n",
    "plants_h = DataFrame(plant=P_h, capacity=[350], cap_exg = [100], crf = [1], fix_oc = [100], var_oc = [100], fc = [1])\n",
    "plants_n = DataFrame(plant=P_n, capacity=[1000], cap_exg = [100], crf = [1], fix_oc = [200], var_oc = [100], fc = [1])\n",
    "new_plants_s = DataFrame(plant=P_s, capacity=[100,200],  cap_exg = [100,100], crf = [1,1], fix_oc = [100,100], var_oc = [100,120], fc = [1,1] )\n",
    "new_plants_g = DataFrame(plant=P_g, capacity=[350,650,100,300], cap_exg = [100,100,100,100], crf = [1,1,1,1], fix_oc = [100,120,100,100], var_oc = [100,120,100,100], fc = [1,1,1,1])\n",
    "\n"
   ]
  },
  {
   "cell_type": "code",
   "execution_count": 163,
   "metadata": {},
   "outputs": [],
   "source": [
    "direction_flow = zeros(length(nodes.id), length(branches.id))\n",
    "branch_id = branches.id;\n",
    "nodes_id = nodes.id;\n",
    "N = nodes_id;"
   ]
  },
  {
   "cell_type": "code",
   "execution_count": 164,
   "metadata": {},
   "outputs": [
    {
     "data": {
      "text/plain": [
       "6000"
      ]
     },
     "metadata": {},
     "output_type": "display_data"
    }
   ],
   "source": [
    "for l in branch_id\n",
    "    direction_flow[branches[l,\"From\"],l] = -1\n",
    "    direction_flow[branches[l,\"To\"],l] = 1\n",
    "end\n",
    "\n",
    "transmission  = Model(HiGHS.Optimizer);\n",
    "\n",
    "@variables(transmission , begin\n",
    "        CAP[g in G] >=0          # Generating capacity built (MW)\n",
    "        GEN[g in G, h in H] >= 0 # Generation in each hour (MWh)\n",
    "        NSE[h in H] >= 0         # Non-served energy in each hour (MWh)\n",
    "        flow[l in L, h in H]\n",
    "        LIN[l in L]\n",
    "        NEW_CAP[n in N]    \n",
    "        NEW_T_CAP[l in L]          # new build transmission capacity (MW)\n",
    "        NEW_GEN[n in N, h in H]\n",
    "        Area[n in N]\n",
    "\n",
    "end)\n",
    "\n",
    "transmission_losses = 90 # Cost of freight shipment per unit of distance\n",
    "solar_inv = 100\n",
    "fc_solar = 10\n",
    "operating_ccgt = 100\n",
    "operating_solar = 100\n",
    "transmission_inv = 1000\n",
    "NSECost = 6000 #need to find an actual value for "
   ]
  },
  {
   "cell_type": "code",
   "execution_count": 165,
   "metadata": {},
   "outputs": [
    {
     "data": {
      "text/plain": [
       "56"
      ]
     },
     "metadata": {},
     "output_type": "display_data"
    }
   ],
   "source": [
    "solar[10,1]"
   ]
  },
  {
   "cell_type": "code",
   "execution_count": 166,
   "metadata": {},
   "outputs": [
    {
     "ename": "InterruptException",
     "evalue": "InterruptException:",
     "output_type": "error",
     "traceback": [
      "InterruptException:\n",
      "\n",
      "Stacktrace:\n",
      "  [1] Array\n",
      "    @ ./boot.jl:477 [inlined]\n",
      "  [2] Array\n",
      "    @ ./boot.jl:486 [inlined]\n",
      "  [3] zeros\n",
      "    @ ./array.jl:636 [inlined]\n",
      "  [4] zeros\n",
      "    @ ./array.jl:632 [inlined]\n",
      "  [5] OrderedCollections.OrderedDict{VariableRef, Float64}()\n",
      "    @ OrderedCollections ~/.julia/packages/OrderedCollections/9C4Uz/src/ordered_dict.jl:23\n",
      "  [6] _build_aff_expr(constant::Float64, coef::Float64, var::VariableRef)\n",
      "    @ JuMP ~/.julia/packages/JuMP/kSaGf/src/aff_expr.jl:82\n",
      "  [7] -\n",
      "    @ ~/.julia/packages/JuMP/kSaGf/src/operators.jl:45 [inlined]\n",
      "  [8] sub_mul\n",
      "    @ ~/.julia/packages/MutableArithmetics/2vhhw/src/MutableArithmetics.jl:38 [inlined]\n",
      "  [9] operate\n",
      "    @ ~/.julia/packages/MutableArithmetics/2vhhw/src/interface.jl:210 [inlined]\n",
      " [10] operate_fallback!!\n",
      "    @ ~/.julia/packages/MutableArithmetics/2vhhw/src/interface.jl:593 [inlined]\n",
      " [11] operate!!(op::typeof(MutableArithmetics.sub_mul), x::Int64, args::VariableRef)\n",
      "    @ MutableArithmetics ~/.julia/packages/MutableArithmetics/2vhhw/src/rewrite.jl:93\n",
      " [12] macro expansion\n",
      "    @ ~/.julia/packages/MutableArithmetics/2vhhw/src/rewrite.jl:321 [inlined]\n",
      " [13] macro expansion\n",
      "    @ ~/.julia/packages/JuMP/kSaGf/src/macros.jl:257 [inlined]\n",
      " [14] macro expansion\n",
      "    @ ~/.julia/packages/JuMP/kSaGf/src/macros/@constraint.jl:131 [inlined]\n",
      " [15] (::var\"#601#605\"{Model})(n::Int64, h::Int64)\n",
      "    @ Main ~/.julia/packages/JuMP/kSaGf/src/Containers/macro.jl:539\n",
      " [16] #87\n",
      "    @ ~/.julia/packages/JuMP/kSaGf/src/Containers/container.jl:124 [inlined]\n",
      " [17] iterate\n",
      "    @ ./generator.jl:47 [inlined]\n",
      " [18] collect_to!(dest::Matrix{ConstraintRef{Model, MathOptInterface.ConstraintIndex{MathOptInterface.ScalarAffineFunction{Float64}, MathOptInterface.GreaterThan{Float64}}, ScalarShape}}, itr::Base.Generator{JuMP.Containers.VectorizedProductIterator{Tuple{Vector{Int64}, Vector{Int64}}}, JuMP.Containers.var\"#87#89\"{var\"#601#605\"{Model}}}, offs::Int64, st::Tuple{Tuple{Int64, Int64}, Tuple{Int64, Int64}})\n",
      "    @ Base ./array.jl:892\n",
      " [19] collect_to_with_first!(dest::Matrix{ConstraintRef{Model, MathOptInterface.ConstraintIndex{MathOptInterface.ScalarAffineFunction{Float64}, MathOptInterface.GreaterThan{Float64}}, ScalarShape}}, v1::ConstraintRef{Model, MathOptInterface.ConstraintIndex{MathOptInterface.ScalarAffineFunction{Float64}, MathOptInterface.GreaterThan{Float64}}, ScalarShape}, itr::Base.Generator{JuMP.Containers.VectorizedProductIterator{Tuple{Vector{Int64}, Vector{Int64}}}, JuMP.Containers.var\"#87#89\"{var\"#601#605\"{Model}}}, st::Tuple{Tuple{Int64, Int64}, Tuple{Int64, Int64}})\n",
      "    @ Base ./array.jl:870\n",
      " [20] collect(itr::Base.Generator{JuMP.Containers.VectorizedProductIterator{Tuple{Vector{Int64}, Vector{Int64}}}, JuMP.Containers.var\"#87#89\"{var\"#601#605\"{Model}}})\n",
      "    @ Base ./array.jl:844\n",
      " [21] map(f::Function, A::JuMP.Containers.VectorizedProductIterator{Tuple{Vector{Int64}, Vector{Int64}}})\n",
      "    @ Base ./abstractarray.jl:3313\n",
      " [22] container(f::Function, indices::JuMP.Containers.VectorizedProductIterator{Tuple{Vector{Int64}, Vector{Int64}}}, ::Type{JuMP.Containers.DenseAxisArray}, names::Vector{Any})\n",
      "    @ JuMP.Containers ~/.julia/packages/JuMP/kSaGf/src/Containers/container.jl:123\n",
      " [23] container(f::Function, indices::JuMP.Containers.VectorizedProductIterator{Tuple{Vector{Int64}, Vector{Int64}}}, ::Type{JuMP.Containers.AutoContainerType}, names::Vector{Any})\n",
      "    @ JuMP.Containers ~/.julia/packages/JuMP/kSaGf/src/Containers/container.jl:75\n",
      " [24] eval\n",
      "    @ ./boot.jl:385 [inlined]\n",
      " [25] include_string(mapexpr::typeof(REPL.softscope), mod::Module, code::String, filename::String)\n",
      "    @ Base ./loading.jl:2076\n",
      " [26] #invokelatest#2\n",
      "    @ ./essentials.jl:892 [inlined]\n",
      " [27] invokelatest\n",
      "    @ ./essentials.jl:889 [inlined]\n",
      " [28] (::VSCodeServer.var\"#214#215\"{VSCodeServer.NotebookRunCellArguments, String})()\n",
      "    @ VSCodeServer ~/.vscode/extensions/julialang.language-julia-1.75.2/scripts/packages/VSCodeServer/src/serve_notebook.jl:19\n",
      " [29] withpath(f::VSCodeServer.var\"#214#215\"{VSCodeServer.NotebookRunCellArguments, String}, path::String)\n",
      "    @ VSCodeServer ~/.vscode/extensions/julialang.language-julia-1.75.2/scripts/packages/VSCodeServer/src/repl.jl:274\n",
      " [30] notebook_runcell_request(conn::VSCodeServer.JSONRPC.JSONRPCEndpoint{Base.PipeEndpoint, Base.PipeEndpoint}, params::VSCodeServer.NotebookRunCellArguments)\n",
      "    @ VSCodeServer ~/.vscode/extensions/julialang.language-julia-1.75.2/scripts/packages/VSCodeServer/src/serve_notebook.jl:13\n",
      " [31] dispatch_msg(x::VSCodeServer.JSONRPC.JSONRPCEndpoint{Base.PipeEndpoint, Base.PipeEndpoint}, dispatcher::VSCodeServer.JSONRPC.MsgDispatcher, msg::Dict{String, Any})\n",
      "    @ VSCodeServer.JSONRPC ~/.vscode/extensions/julialang.language-julia-1.75.2/scripts/packages/JSONRPC/src/typed.jl:67\n",
      " [32] serve_notebook(pipename::String, outputchannel_logger::Base.CoreLogging.SimpleLogger; crashreporting_pipename::String)\n",
      "    @ VSCodeServer ~/.vscode/extensions/julialang.language-julia-1.75.2/scripts/packages/VSCodeServer/src/serve_notebook.jl:139\n",
      " [33] top-level scope\n",
      "    @ ~/.vscode/extensions/julialang.language-julia-1.75.2/scripts/notebook/notebook.jl:35"
     ]
    }
   ],
   "source": [
    "demand_balance = @constraint(\n",
    "    transmission, [n in nodes_id, h in H], \n",
    "    sum(direction_flow[n,l]*flow[l,h] for l in branch_id) + sum(GEN[g,h] for g in G[(generators.Node .== n),:]) + NEW_GEN[n,h] \n",
    "    == first(demand[h, n]) + first(desalination_demand[h, n]) + first(new_desalination_demand[h, n])\n",
    ")\n",
    "\n",
    "@constraints( transmission, begin\n",
    "    solar_gen[n in nodes_id, h in H], solar[h,1]*0.25*Area[n]*new_generators[n, 7]<= new_generators[n, 6]\n",
    "    area_bound[n in nodes_id], Area[n] <= 21000000\n",
    "    generation_solar[n in nodes_id[(new_generators.solar .== 1),:], h in H], NEW_GEN[n, h]<= solar[h,1]*0.25*Area[n]\n",
    "end\n",
    ")\n",
    "\n",
    "max_transmision = @constraint(transmission, [l in L,  h in H], flow[l,h] <= 506.8 + NEW_T_CAP[l])\n",
    "min_transmision = @constraint(transmission, [l in L,  h in H], flow[l,h] >= - 506.8 - NEW_T_CAP[l])\n",
    "new_desalination = @constraint(transmission, [n in nodes_id,  h in H], first(new_desalination_demand[h, n]) <= NEW_CAP[n])\n",
    "\n",
    "\n",
    "\n",
    "@constraints(transmission, begin\n",
    "new_generators_constraint[n in nodes_id,  h in H], new_generators[n, 6] >= NEW_CAP[n]\n",
    "new_generators_constraint2[n in nodes_id,  h in H], NEW_CAP[n] >= NEW_GEN[n,h]\n",
    "generators_constraint[n in nodes_id,  h in H, g in G], generators[n, 15] >= GEN[g,h]\n",
    "overall_generator[n in nodes_id,  h in H, g in G], generators[n, 15] + NEW_CAP[n] >= GEN[g,h] + NEW_GEN[n,h]\n",
    "end);\n",
    "\n"
   ]
  },
  {
   "cell_type": "code",
   "execution_count": 167,
   "metadata": {},
   "outputs": [],
   "source": [
    "@objective(transmission, Min, sum(sum(generators[generators.Name.==g,:Var_Cost][1]*GEN[g,h] for h in H)\n",
    "    for g in G) + sum(NSECost*NSE[h] for h in H) \n",
    "        + sum(NEW_T_CAP[l]*branches[l,:cost_of_new]*branches[l,:Length] for l in L) + \n",
    "        sum(new_generators[new_generators.Node.==n,:Fixed_Cost][1]*NEW_CAP[n] for n in N) \n",
    "        + sum(sum(new_generators[new_generators.Node.==n,:Var_Cost][1]*NEW_GEN[n,h] for n in N) for h in H) \n",
    ");\n",
    "\n",
    "#@objective(transmission, Min,\n",
    " #   sum(generators[generators.Name.==g,:Fixed_Cost][1]*CAP[g] + \n",
    "  #      sum(generators[generators.Name.==g,:Var_Cost][1]*GEN[g,h] for h in H)\n",
    "   # for g in G) + \n",
    "    #sum(NSECost*NSE[h] for h in H) \n",
    "#);\n",
    "\n",
    "optimize!(transmission)\n"
   ]
  },
  {
   "cell_type": "markdown",
   "metadata": {},
   "source": []
  },
  {
   "cell_type": "code",
   "execution_count": null,
   "metadata": {},
   "outputs": [],
   "source": [
    "generation = zeros(size(G,1))\n",
    "for i in 1:size(G,1) \n",
    "    generation[i] = sum(value.(GEN)[G[i],:].data) \n",
    "end\n",
    "\n",
    "new_generation = zeros(size(N,1))\n",
    "for i in 1:size(N,1) \n",
    "    new_generation[i] = sum(value.(NEW_GEN)[N[i],:].data) \n",
    "end\n",
    "#MWh_share = generation./sum(demand.total).*100\n",
    "#cap_share = value.(CAP).data./maximum(demand.total).*100\n",
    "\n",
    "results2 = DataFrame(\n",
    "    new_t_cap = value.(NEW_T_CAP).data,\n",
    ")\n",
    "results = DataFrame(\n",
    "    Resource = N, \n",
    "    area = value.(Area).data,\n",
    "    #Percent_MW = cap_share,\n",
    "    new_MWh = new_generation,\n",
    "    MWh = generation,\n",
    "    #Percent_GWh = MWh_share\n",
    ")\n",
    "\n",
    "results3 = DataFrame(\n",
    "    nse = value.(NSE).data,\n",
    "    new_gen = value.(NEW_GEN)[1,:].data,\n",
    "\n",
    "    #Percent_MW = cap_share,\n",
    "    #Percent_GWh = MWh_share\n",
    ")\n",
    "results\n",
    "results\n",
    "\n"
   ]
  },
  {
   "cell_type": "markdown",
   "metadata": {},
   "source": []
  },
  {
   "cell_type": "markdown",
   "metadata": {},
   "source": []
  }
 ],
 "metadata": {
  "kernelspec": {
   "display_name": "Julia 1.10.2",
   "language": "julia",
   "name": "julia-1.10"
  },
  "language_info": {
   "file_extension": ".jl",
   "mimetype": "application/julia",
   "name": "julia",
   "version": "1.10.2"
  }
 },
 "nbformat": 4,
 "nbformat_minor": 2
}
